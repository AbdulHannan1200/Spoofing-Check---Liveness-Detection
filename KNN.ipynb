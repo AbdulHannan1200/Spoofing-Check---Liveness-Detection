{
 "cells": [
  {
   "cell_type": "code",
   "execution_count": 1,
   "metadata": {},
   "outputs": [],
   "source": [
    "import pandas as pd\n",
    "import numpy as np\n",
    "import matplotlib.pyplot as plt\n",
    "import os\n",
    "import cv2"
   ]
  },
  {
   "cell_type": "code",
   "execution_count": 2,
   "metadata": {},
   "outputs": [],
   "source": [
    "DATA_DIR=\"E:\\Python\\Spoofing-Version02\\images\"\n",
    "CATEGORIES=[\"fake\",\"real\"]"
   ]
  },
  {
   "cell_type": "code",
   "execution_count": 3,
   "metadata": {},
   "outputs": [],
   "source": [
    "IMG_SIZE=160"
   ]
  },
  {
   "cell_type": "code",
   "execution_count": 4,
   "metadata": {},
   "outputs": [],
   "source": [
    "training_data=[]\n",
    "def create_training_data():\n",
    "    for category in CATEGORIES:\n",
    "        path=os.path.join(DATA_DIR,category) #path to cats and dogs\n",
    "        class_num=CATEGORIES.index(category)\n",
    "        for img in os.listdir(path):\n",
    "            try:\n",
    "                img_arr=cv2.imread(os.path.join(path,img),cv2.IMREAD_GRAYSCALE)\n",
    "                new_array=cv2.resize(img_arr,(IMG_SIZE,IMG_SIZE))\n",
    "                training_data.append([new_array,class_num])\n",
    "            except Exception as e:\n",
    "                pass\n",
    "    \n",
    "create_training_data()"
   ]
  },
  {
   "cell_type": "code",
   "execution_count": 5,
   "metadata": {},
   "outputs": [],
   "source": [
    "\n",
    "import random\n",
    "\n",
    "random.shuffle(training_data)"
   ]
  },
  {
   "cell_type": "code",
   "execution_count": 6,
   "metadata": {},
   "outputs": [
    {
     "name": "stdout",
     "output_type": "stream",
     "text": [
      "1\n",
      "1\n",
      "0\n",
      "0\n",
      "0\n"
     ]
    }
   ],
   "source": [
    "for sample in training_data[:5]:\n",
    "    print(sample[1])"
   ]
  },
  {
   "cell_type": "code",
   "execution_count": 7,
   "metadata": {},
   "outputs": [
    {
     "name": "stdout",
     "output_type": "stream",
     "text": [
      "(6389, 160, 160)\n"
     ]
    }
   ],
   "source": [
    "\n",
    "X=[]\n",
    "y=[]\n",
    "\n",
    "for features,label in training_data:\n",
    "    X.append(features)\n",
    "    y.append(label)\n",
    "    \n",
    "#how many features did we have -1 saying it could be many any number,we know shape of data imgsize x imgsize\n",
    "#and than one bcz of grayscale image\n",
    "#LAST 1 WILL BE 3 IF USING RGB\n",
    "X=np.array(X).reshape(-1,IMG_SIZE,IMG_SIZE)\n",
    "print(X.shape)"
   ]
  },
  {
   "cell_type": "code",
   "execution_count": 8,
   "metadata": {},
   "outputs": [],
   "source": [
    "X=X/255.0"
   ]
  },
  {
   "cell_type": "code",
   "execution_count": 9,
   "metadata": {},
   "outputs": [
    {
     "name": "stdout",
     "output_type": "stream",
     "text": [
      "(6389, 160, 160)\n"
     ]
    }
   ],
   "source": [
    "X_KNN=X\n",
    "print(X_KNN.shape)"
   ]
  },
  {
   "cell_type": "code",
   "execution_count": null,
   "metadata": {},
   "outputs": [],
   "source": []
  },
  {
   "cell_type": "code",
   "execution_count": 10,
   "metadata": {},
   "outputs": [
    {
     "name": "stdout",
     "output_type": "stream",
     "text": [
      "(6389, 25600)\n"
     ]
    }
   ],
   "source": [
    "nsamples,nx,ny = X_KNN.shape\n",
    "X_KNN = X_KNN.reshape((nsamples,nx*ny))\n",
    "print(X_KNN.shape)"
   ]
  },
  {
   "cell_type": "code",
   "execution_count": 11,
   "metadata": {},
   "outputs": [
    {
     "name": "stdout",
     "output_type": "stream",
     "text": [
      "(4999, 25600)\n"
     ]
    }
   ],
   "source": [
    "X_KNN_train=X_KNN[:4999]\n",
    "y_train=y[:4999]\n",
    "X_KNN_test=X_KNN[4999:]\n",
    "y_test=y[4999:]\n",
    "print(X_KNN_train.shape)"
   ]
  },
  {
   "cell_type": "code",
   "execution_count": 12,
   "metadata": {},
   "outputs": [],
   "source": [
    "\n",
    "from sklearn.metrics import confusion_matrix \n",
    "from sklearn.metrics import accuracy_score \n",
    "from sklearn.metrics import classification_report"
   ]
  },
  {
   "cell_type": "code",
   "execution_count": 13,
   "metadata": {},
   "outputs": [
    {
     "name": "stdout",
     "output_type": "stream",
     "text": [
      "[[699   0]\n",
      " [  0 691]]\n",
      "KNN Accuracy:  1.0\n",
      "\n",
      "\n",
      "              precision    recall  f1-score   support\n",
      "\n",
      "           0       1.00      1.00      1.00       699\n",
      "           1       1.00      1.00      1.00       691\n",
      "\n",
      "   micro avg       1.00      1.00      1.00      1390\n",
      "   macro avg       1.00      1.00      1.00      1390\n",
      "weighted avg       1.00      1.00      1.00      1390\n",
      "\n"
     ]
    }
   ],
   "source": [
    "from sklearn.neighbors import KNeighborsClassifier\n",
    "knn = KNeighborsClassifier()\n",
    "knn.fit(X_KNN_train,y_train)\n",
    "knn_pred = knn.predict(X_KNN_test)\n",
    "\n",
    "\n",
    "knn_results = confusion_matrix(y_test, knn_pred)\n",
    "knn_accuracy=accuracy_score(y_test,knn_pred)\n",
    "knn_report=classification_report(y_test,knn_pred) \n",
    "print(knn_results)\n",
    "print('KNN Accuracy: ',knn_accuracy)\n",
    "print('\\n')\n",
    "print(knn_report)"
   ]
  },
  {
   "cell_type": "code",
   "execution_count": 14,
   "metadata": {},
   "outputs": [],
   "source": [
    "import pickle\n",
    "pickle_out=open(\"knn.pickle\",\"wb\")\n",
    "pickle.dump(knn,pickle_out)\n",
    "pickle_out.close()"
   ]
  },
  {
   "cell_type": "code",
   "execution_count": 23,
   "metadata": {},
   "outputs": [
    {
     "name": "stdout",
     "output_type": "stream",
     "text": [
      "0\n"
     ]
    }
   ],
   "source": [
    "# n=1\n",
    "# a=svc_model.predict([[n]])\n",
    "# print(a)\n",
    "n=22\n",
    "print(y_test[n])"
   ]
  },
  {
   "cell_type": "code",
   "execution_count": 24,
   "metadata": {},
   "outputs": [
    {
     "name": "stdout",
     "output_type": "stream",
     "text": [
      "[0]\n"
     ]
    }
   ],
   "source": [
    "print(knn.predict([X_KNN_test[n]]))"
   ]
  },
  {
   "cell_type": "code",
   "execution_count": 25,
   "metadata": {},
   "outputs": [],
   "source": [
    "def func(pred):\n",
    "    if pred==0:\n",
    "        return \"fake\"\n",
    "    else :\n",
    "        return \"real\"\n",
    "    "
   ]
  },
  {
   "cell_type": "code",
   "execution_count": 26,
   "metadata": {},
   "outputs": [],
   "source": [
    "def frame_shape(img):\n",
    "    img=cv2.resize(img,(IMG_SIZE,IMG_SIZE))\n",
    "    img_new = img.reshape((1,img.shape[0]*img.shape[1]))\n",
    "    return img_new\n"
   ]
  },
  {
   "cell_type": "code",
   "execution_count": 83,
   "metadata": {
    "scrolled": true
   },
   "outputs": [],
   "source": [
    "#my_img=cv2.imread(\"E:\\Python\\liveness_detection\\maaz-04.jpeg\",cv2.IMREAD_GRAYSCALE)\n",
    "#my_img=cv2.imread(\"E:\\Python\\liveness_detection\\mahadFriend-Fake.jpeg\",cv2.IMREAD_GRAYSCALE)\n",
    "my_img=cv2.imread(\"E:\\Python\\Spoofing-Version02\\Fake-Hannan.jpeg\",cv2.IMREAD_GRAYSCALE)\n",
    "#my_img=cv2.imread(\"E:\\Python\\liveness_detection\\justin.jpg\",cv2.IMREAD_GRAYSCALE)\n",
    "#my_img=cv2.imread(\"E:\\Python\\liveness_detection\\justin_fake.jpg\",cv2.IMREAD_GRAYSCALE)"
   ]
  },
  {
   "cell_type": "code",
   "execution_count": 84,
   "metadata": {},
   "outputs": [
    {
     "data": {
      "text/plain": [
       "(720, 1280)"
      ]
     },
     "execution_count": 84,
     "metadata": {},
     "output_type": "execute_result"
    }
   ],
   "source": [
    "my_img.shape"
   ]
  },
  {
   "cell_type": "code",
   "execution_count": 85,
   "metadata": {},
   "outputs": [],
   "source": [
    "roi = cv2.resize(my_img, (160, 160))\n",
    "#prnt(roi)\n",
    "roi=roi/255"
   ]
  },
  {
   "cell_type": "code",
   "execution_count": null,
   "metadata": {},
   "outputs": [],
   "source": [
    "roi.shape"
   ]
  },
  {
   "cell_type": "code",
   "execution_count": null,
   "metadata": {},
   "outputs": [],
   "source": [
    "f_img=frame_shape(roi)\n",
    "pred = knn.predict(f_img)\n",
    "print(pred)\n",
    "var=func(pred)\n",
    "print(var)"
   ]
  },
  {
   "cell_type": "code",
   "execution_count": null,
   "metadata": {},
   "outputs": [],
   "source": []
  },
  {
   "cell_type": "code",
   "execution_count": null,
   "metadata": {},
   "outputs": [],
   "source": []
  },
  {
   "cell_type": "code",
   "execution_count": null,
   "metadata": {},
   "outputs": [],
   "source": []
  },
  {
   "cell_type": "code",
   "execution_count": null,
   "metadata": {},
   "outputs": [],
   "source": []
  },
  {
   "cell_type": "code",
   "execution_count": null,
   "metadata": {},
   "outputs": [],
   "source": []
  },
  {
   "cell_type": "code",
   "execution_count": null,
   "metadata": {},
   "outputs": [],
   "source": []
  }
 ],
 "metadata": {
  "kernelspec": {
   "display_name": "Python 3",
   "language": "python",
   "name": "python3"
  },
  "language_info": {
   "codemirror_mode": {
    "name": "ipython",
    "version": 3
   },
   "file_extension": ".py",
   "mimetype": "text/x-python",
   "name": "python",
   "nbconvert_exporter": "python",
   "pygments_lexer": "ipython3",
   "version": "3.7.3"
  }
 },
 "nbformat": 4,
 "nbformat_minor": 2
}
