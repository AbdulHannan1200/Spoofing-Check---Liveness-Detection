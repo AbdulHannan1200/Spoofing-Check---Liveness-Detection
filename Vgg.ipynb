{
 "cells": [
  {
   "cell_type": "code",
   "execution_count": 1,
   "metadata": {},
   "outputs": [],
   "source": [
    "import pandas as pd\n",
    "import numpy as np\n",
    "import matplotlib.pyplot as plt\n",
    "import os\n",
    "import cv2"
   ]
  },
  {
   "cell_type": "code",
   "execution_count": 2,
   "metadata": {},
   "outputs": [],
   "source": [
    "DATA_DIR=\"E:\\Python\\Spoofing-Version02\\images\"\n",
    "CATEGORIES=[\"fake\",\"real\"]"
   ]
  },
  {
   "cell_type": "code",
   "execution_count": 3,
   "metadata": {},
   "outputs": [],
   "source": [
    "IMG_SIZE=160"
   ]
  },
  {
   "cell_type": "code",
   "execution_count": 4,
   "metadata": {},
   "outputs": [],
   "source": [
    "training_data=[]\n",
    "def create_training_data():\n",
    "    for category in CATEGORIES:\n",
    "        path=os.path.join(DATA_DIR,category) #path to cats and dogs\n",
    "        class_num=CATEGORIES.index(category)\n",
    "        for img in os.listdir(path):\n",
    "            try:\n",
    "                img_arr=cv2.imread(os.path.join(path,img))\n",
    "                new_array=cv2.resize(img_arr,(IMG_SIZE,IMG_SIZE))\n",
    "                training_data.append([new_array,class_num])\n",
    "            except Exception as e:\n",
    "                pass\n",
    "    \n",
    "create_training_data()"
   ]
  },
  {
   "cell_type": "code",
   "execution_count": 5,
   "metadata": {},
   "outputs": [
    {
     "name": "stdout",
     "output_type": "stream",
     "text": [
      "6389\n"
     ]
    }
   ],
   "source": [
    "print(len(training_data))"
   ]
  },
  {
   "cell_type": "code",
   "execution_count": 6,
   "metadata": {},
   "outputs": [],
   "source": [
    "import random\n",
    "\n",
    "random.shuffle(training_data)"
   ]
  },
  {
   "cell_type": "code",
   "execution_count": 7,
   "metadata": {},
   "outputs": [
    {
     "name": "stdout",
     "output_type": "stream",
     "text": [
      "1\n",
      "1\n",
      "1\n",
      "1\n",
      "1\n"
     ]
    }
   ],
   "source": [
    "for sample in training_data[:5]:\n",
    "    print(sample[1])"
   ]
  },
  {
   "cell_type": "code",
   "execution_count": 8,
   "metadata": {},
   "outputs": [
    {
     "name": "stdout",
     "output_type": "stream",
     "text": [
      "(6389, 160, 160, 3)\n"
     ]
    }
   ],
   "source": [
    "X=[]\n",
    "y=[]\n",
    "\n",
    "for features,label in training_data:\n",
    "    X.append(features)\n",
    "    y.append(label)\n",
    "    \n",
    "#how many features did we have -1 saying it could be many any number,we know shape of data imgsize x imgsize\n",
    "#and than one bcz of grayscale image\n",
    "#LAST 1 WILL BE 3 IF USING RGB\n",
    "X=np.array(X).reshape(-1,IMG_SIZE,IMG_SIZE,3)\n",
    "print(X.shape)"
   ]
  },
  {
   "cell_type": "code",
   "execution_count": 9,
   "metadata": {},
   "outputs": [],
   "source": [
    "X=X/255.0"
   ]
  },
  {
   "cell_type": "code",
   "execution_count": 10,
   "metadata": {},
   "outputs": [
    {
     "name": "stdout",
     "output_type": "stream",
     "text": [
      "(4999, 160, 160, 3)\n"
     ]
    }
   ],
   "source": [
    "X_train=X[:4999]\n",
    "y_train=y[:4999]\n",
    "X_test=X[4999:]\n",
    "y_test=y[4999:]\n",
    "print(X_train.shape)"
   ]
  },
  {
   "cell_type": "code",
   "execution_count": null,
   "metadata": {},
   "outputs": [],
   "source": []
  },
  {
   "cell_type": "code",
   "execution_count": 11,
   "metadata": {},
   "outputs": [],
   "source": [
    "import tensorflow as tf\n",
    "from tensorflow.keras.models import Sequential\n",
    "from tensorflow.keras.layers import Dense,Dropout,Activation,Flatten,Conv2D,MaxPooling2D,GlobalAveragePooling2D\n",
    "import pickle\n",
    "from tensorflow.keras import applications\n",
    "from tensorflow.keras.models import Model\n",
    "from tensorflow.keras.preprocessing.image import ImageDataGenerator\n",
    "from tensorflow.keras.preprocessing import image\n"
   ]
  },
  {
   "cell_type": "code",
   "execution_count": 12,
   "metadata": {},
   "outputs": [],
   "source": [
    "vgg_model = applications.VGG16(weights='imagenet',\n",
    "                               include_top=False,\n",
    "                               input_shape=(160 ,160, 3))\n",
    "\n"
   ]
  },
  {
   "cell_type": "code",
   "execution_count": 13,
   "metadata": {},
   "outputs": [],
   "source": [
    "x=vgg_model.output\n",
    "x=GlobalAveragePooling2D()(x)\n",
    "x=Dense(512,activation='relu')(x) #we add dense layers so that the model can learn more complex functions and classify for better results.\n",
    "x=Dense(512,activation='relu')(x) #dense layer 2\n",
    "x=Dense(64,activation='relu')(x) #dense layer 3\n",
    "preds=Dense(1,activation='sigmoid')(x) #final layer with softmax activation"
   ]
  },
  {
   "cell_type": "code",
   "execution_count": 14,
   "metadata": {},
   "outputs": [],
   "source": [
    "model=Model(inputs=vgg_model.input,outputs=preds)"
   ]
  },
  {
   "cell_type": "code",
   "execution_count": 15,
   "metadata": {},
   "outputs": [
    {
     "name": "stdout",
     "output_type": "stream",
     "text": [
      "0 input_1\n",
      "1 block1_conv1\n",
      "2 block1_conv2\n",
      "3 block1_pool\n",
      "4 block2_conv1\n",
      "5 block2_conv2\n",
      "6 block2_pool\n",
      "7 block3_conv1\n",
      "8 block3_conv2\n",
      "9 block3_conv3\n",
      "10 block3_pool\n",
      "11 block4_conv1\n",
      "12 block4_conv2\n",
      "13 block4_conv3\n",
      "14 block4_pool\n",
      "15 block5_conv1\n",
      "16 block5_conv2\n",
      "17 block5_conv3\n",
      "18 block5_pool\n",
      "19 global_average_pooling2d\n",
      "20 dense\n",
      "21 dense_1\n",
      "22 dense_2\n",
      "23 dense_3\n"
     ]
    }
   ],
   "source": [
    "for i,layer in enumerate(model.layers):\n",
    "    print(i,layer.name)"
   ]
  },
  {
   "cell_type": "code",
   "execution_count": 16,
   "metadata": {},
   "outputs": [],
   "source": [
    "for layer in model.layers[:20]:\n",
    "    layer.trainable=False\n",
    "for layer in model.layers[20:]:\n",
    "    layer.trainable=True\n"
   ]
  },
  {
   "cell_type": "code",
   "execution_count": 17,
   "metadata": {},
   "outputs": [],
   "source": [
    "from tensorflow.keras.optimizers import Adam"
   ]
  },
  {
   "cell_type": "code",
   "execution_count": 18,
   "metadata": {},
   "outputs": [],
   "source": [
    "model.compile(optimizer='Adam',loss='binary_crossentropy',metrics=['accuracy'])"
   ]
  },
  {
   "cell_type": "code",
   "execution_count": null,
   "metadata": {},
   "outputs": [],
   "source": []
  },
  {
   "cell_type": "code",
   "execution_count": null,
   "metadata": {},
   "outputs": [],
   "source": []
  },
  {
   "cell_type": "code",
   "execution_count": 20,
   "metadata": {},
   "outputs": [
    {
     "name": "stdout",
     "output_type": "stream",
     "text": [
      "Train on 3999 samples, validate on 1000 samples\n",
      "Epoch 1/3\n",
      "3999/3999 [==============================] - 1746s 437ms/sample - loss: 0.0133 - accuracy: 0.9937 - val_loss: 8.6084e-07 - val_accuracy: 1.0000\n",
      "Epoch 2/3\n",
      "3999/3999 [==============================] - 1868s 467ms/sample - loss: 2.4169e-07 - accuracy: 1.0000 - val_loss: 1.2105e-07 - val_accuracy: 1.0000\n",
      "Epoch 3/3\n",
      "3999/3999 [==============================] - 1674s 419ms/sample - loss: 6.1882e-08 - accuracy: 1.0000 - val_loss: 2.7484e-08 - val_accuracy: 1.0000\n"
     ]
    },
    {
     "data": {
      "text/plain": [
       "<tensorflow.python.keras.callbacks.History at 0x292b9c36438>"
      ]
     },
     "execution_count": 20,
     "metadata": {},
     "output_type": "execute_result"
    }
   ],
   "source": [
    "model.fit(X_train,np.array(y_train),batch_size=5,epochs=3,validation_split=0.2)"
   ]
  },
  {
   "cell_type": "code",
   "execution_count": 21,
   "metadata": {},
   "outputs": [],
   "source": [
    "import h5py\n",
    "model.save('Vgg_model.h5')"
   ]
  },
  {
   "cell_type": "code",
   "execution_count": 22,
   "metadata": {},
   "outputs": [],
   "source": [
    "pred = model.predict([X_test])"
   ]
  },
  {
   "cell_type": "code",
   "execution_count": null,
   "metadata": {},
   "outputs": [],
   "source": []
  },
  {
   "cell_type": "code",
   "execution_count": 27,
   "metadata": {},
   "outputs": [
    {
     "name": "stdout",
     "output_type": "stream",
     "text": [
      "1\n"
     ]
    }
   ],
   "source": [
    "n=0\n",
    "print(y_test[n])"
   ]
  },
  {
   "cell_type": "code",
   "execution_count": 31,
   "metadata": {},
   "outputs": [
    {
     "name": "stdout",
     "output_type": "stream",
     "text": [
      "[1.]\n"
     ]
    }
   ],
   "source": [
    "#print(np.argmax(pred[n]))\n",
    "print(pred[n])"
   ]
  },
  {
   "cell_type": "code",
   "execution_count": 32,
   "metadata": {},
   "outputs": [],
   "source": [
    "def func(pred):\n",
    "    if pred==0:\n",
    "        return \"fake\"\n",
    "    else :\n",
    "        return \"real\"\n",
    "    "
   ]
  },
  {
   "cell_type": "code",
   "execution_count": 35,
   "metadata": {},
   "outputs": [],
   "source": [
    "IMG_SIZE=160\n",
    "def CNN_frame_shape(img):\n",
    "    img=cv2.resize(img,(IMG_SIZE,IMG_SIZE))\n",
    "    img_new = img.reshape((-1,img.shape[0],img.shape[1],3))\n",
    "    return img_new\n"
   ]
  },
  {
   "cell_type": "code",
   "execution_count": 80,
   "metadata": {},
   "outputs": [],
   "source": [
    "def func_CNN(pred):\n",
    "    chk=pred[0][0]\n",
    "    if chk < 0.01:\n",
    "        result = \"fake\"\n",
    "    else:\n",
    "        result = \"real\"\n",
    "    return result"
   ]
  },
  {
   "cell_type": "code",
   "execution_count": 109,
   "metadata": {},
   "outputs": [],
   "source": [
    "#my_img=cv2.imread(\"E:\\Python\\liveness_detection\\Hannan-13.jpeg\",cv2.IMREAD_GRAYSCALE)\n",
    "#my_img=cv2.imread(\"E:\\Python\\liveness_detection\\mahadFriend-Fake.jpeg\",cv2.IMREAD_GRAYSCALE)\n",
    "#my_img=cv2.imread(\"E:\\Python\\Spoofing\\Wasif-02.jpg\",cv2.IMREAD_GRAYSCALE)\n",
    "#my_img=cv2.imread(\"E:\\Python\\liveness_detection\\justin.jpg\",cv2.IMREAD_GRAYSCALE)\n",
    "#my_img=cv2.imread(r\"E:\\Python\\Spoofing-Version02\\images\\fake\\Old Hannan576.jpg\",cv2.IMREAD_GRAYSCALE)\n",
    "my_img=cv2.imread(\"E:\\Python\\Spoofing-Version02\\Fake-Hannan.jpeg\",cv2.IMREAD_GRAYSCALE)\n",
    "#my_img=cv2.imread(r\"E:\\Python\\liveness_detection\\images\\fake\\img1.jpg\",cv2.IMREAD_GRAYSCALE)\n",
    "#my_img=cv2.imread(\"E:\\Python\\liveness_detection\\justin_fake.jpg\",cv2.IMREAD_GRAYSCALE)\n",
    "#my_img=cv2.imread(\"E:\\Python\\Spoofing-Version02\\Maaz-Fake-3.jpg\")"
   ]
  },
  {
   "cell_type": "code",
   "execution_count": 110,
   "metadata": {},
   "outputs": [],
   "source": [
    "my_img=cv2.cvtColor(my_img,cv2.COLOR_BGR2RGB)"
   ]
  },
  {
   "cell_type": "code",
   "execution_count": 111,
   "metadata": {},
   "outputs": [],
   "source": [
    "roi = cv2.resize(my_img, (160, 160))\n",
    "#print(roi)\n",
    "roi=roi/255"
   ]
  },
  {
   "cell_type": "code",
   "execution_count": 112,
   "metadata": {},
   "outputs": [
    {
     "name": "stdout",
     "output_type": "stream",
     "text": [
      "(1, 160, 160, 3)\n",
      "[[0.99999475]]\n",
      "real\n"
     ]
    }
   ],
   "source": [
    "f_img=CNN_frame_shape(roi)\n",
    "print(f_img.shape)\n",
    "pred = model.predict(f_img)\n",
    "print(pred)\n",
    "var=func_CNN(pred)\n",
    "print(var)"
   ]
  },
  {
   "cell_type": "code",
   "execution_count": null,
   "metadata": {},
   "outputs": [],
   "source": []
  }
 ],
 "metadata": {
  "kernelspec": {
   "display_name": "Python 3",
   "language": "python",
   "name": "python3"
  },
  "language_info": {
   "codemirror_mode": {
    "name": "ipython",
    "version": 3
   },
   "file_extension": ".py",
   "mimetype": "text/x-python",
   "name": "python",
   "nbconvert_exporter": "python",
   "pygments_lexer": "ipython3",
   "version": "3.7.3"
  }
 },
 "nbformat": 4,
 "nbformat_minor": 2
}
