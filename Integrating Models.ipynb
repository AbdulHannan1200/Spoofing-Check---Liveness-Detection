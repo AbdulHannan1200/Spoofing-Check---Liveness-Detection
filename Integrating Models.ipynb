{
 "cells": [
  {
   "cell_type": "code",
   "execution_count": 1,
   "metadata": {},
   "outputs": [],
   "source": [
    "import cv2\n",
    "import numpy as np\n",
    "import dlib\n",
    "from math import hypot"
   ]
  },
  {
   "cell_type": "code",
   "execution_count": 3,
   "metadata": {},
   "outputs": [],
   "source": [
    "from tensorflow.keras.models import load_model"
   ]
  },
  {
   "cell_type": "code",
   "execution_count": 2,
   "metadata": {},
   "outputs": [],
   "source": [
    "import pickle\n",
    "knn = pickle.load(open('knn.pickle','rb'))\n",
    "svc_model = pickle.load(open('svc_model.pickle','rb'))"
   ]
  },
  {
   "cell_type": "code",
   "execution_count": 4,
   "metadata": {},
   "outputs": [
    {
     "name": "stdout",
     "output_type": "stream",
     "text": [
      "Model: \"sequential\"\n",
      "_________________________________________________________________\n",
      "Layer (type)                 Output Shape              Param #   \n",
      "=================================================================\n",
      "conv2d (Conv2D)              (None, 158, 158, 64)      640       \n",
      "_________________________________________________________________\n",
      "conv2d_1 (Conv2D)            (None, 154, 154, 64)      102464    \n",
      "_________________________________________________________________\n",
      "max_pooling2d (MaxPooling2D) (None, 77, 77, 64)        0         \n",
      "_________________________________________________________________\n",
      "conv2d_2 (Conv2D)            (None, 73, 73, 128)       204928    \n",
      "_________________________________________________________________\n",
      "max_pooling2d_1 (MaxPooling2 (None, 36, 36, 128)       0         \n",
      "_________________________________________________________________\n",
      "dropout (Dropout)            (None, 36, 36, 128)       0         \n",
      "_________________________________________________________________\n",
      "flatten (Flatten)            (None, 165888)            0         \n",
      "_________________________________________________________________\n",
      "dense (Dense)                (None, 64)                10616896  \n",
      "_________________________________________________________________\n",
      "dropout_1 (Dropout)          (None, 64)                0         \n",
      "_________________________________________________________________\n",
      "dense_1 (Dense)              (None, 1)                 65        \n",
      "=================================================================\n",
      "Total params: 10,924,993\n",
      "Trainable params: 10,924,993\n",
      "Non-trainable params: 0\n",
      "_________________________________________________________________\n",
      "None\n"
     ]
    }
   ],
   "source": [
    "CNN_model = load_model('CNN_model.h5')\n",
    "\n",
    "print(CNN_model.summary())"
   ]
  },
  {
   "cell_type": "code",
   "execution_count": 6,
   "metadata": {},
   "outputs": [
    {
     "name": "stdout",
     "output_type": "stream",
     "text": [
      "Model: \"model\"\n",
      "_________________________________________________________________\n",
      "Layer (type)                 Output Shape              Param #   \n",
      "=================================================================\n",
      "input_1 (InputLayer)         [(None, 160, 160, 3)]     0         \n",
      "_________________________________________________________________\n",
      "block1_conv1 (Conv2D)        (None, 160, 160, 64)      1792      \n",
      "_________________________________________________________________\n",
      "block1_conv2 (Conv2D)        (None, 160, 160, 64)      36928     \n",
      "_________________________________________________________________\n",
      "block1_pool (MaxPooling2D)   (None, 80, 80, 64)        0         \n",
      "_________________________________________________________________\n",
      "block2_conv1 (Conv2D)        (None, 80, 80, 128)       73856     \n",
      "_________________________________________________________________\n",
      "block2_conv2 (Conv2D)        (None, 80, 80, 128)       147584    \n",
      "_________________________________________________________________\n",
      "block2_pool (MaxPooling2D)   (None, 40, 40, 128)       0         \n",
      "_________________________________________________________________\n",
      "block3_conv1 (Conv2D)        (None, 40, 40, 256)       295168    \n",
      "_________________________________________________________________\n",
      "block3_conv2 (Conv2D)        (None, 40, 40, 256)       590080    \n",
      "_________________________________________________________________\n",
      "block3_conv3 (Conv2D)        (None, 40, 40, 256)       590080    \n",
      "_________________________________________________________________\n",
      "block3_pool (MaxPooling2D)   (None, 20, 20, 256)       0         \n",
      "_________________________________________________________________\n",
      "block4_conv1 (Conv2D)        (None, 20, 20, 512)       1180160   \n",
      "_________________________________________________________________\n",
      "block4_conv2 (Conv2D)        (None, 20, 20, 512)       2359808   \n",
      "_________________________________________________________________\n",
      "block4_conv3 (Conv2D)        (None, 20, 20, 512)       2359808   \n",
      "_________________________________________________________________\n",
      "block4_pool (MaxPooling2D)   (None, 10, 10, 512)       0         \n",
      "_________________________________________________________________\n",
      "block5_conv1 (Conv2D)        (None, 10, 10, 512)       2359808   \n",
      "_________________________________________________________________\n",
      "block5_conv2 (Conv2D)        (None, 10, 10, 512)       2359808   \n",
      "_________________________________________________________________\n",
      "block5_conv3 (Conv2D)        (None, 10, 10, 512)       2359808   \n",
      "_________________________________________________________________\n",
      "block5_pool (MaxPooling2D)   (None, 5, 5, 512)         0         \n",
      "_________________________________________________________________\n",
      "global_average_pooling2d (Gl (None, 512)               0         \n",
      "_________________________________________________________________\n",
      "dense (Dense)                (None, 512)               262656    \n",
      "_________________________________________________________________\n",
      "dense_1 (Dense)              (None, 512)               262656    \n",
      "_________________________________________________________________\n",
      "dense_2 (Dense)              (None, 64)                32832     \n",
      "_________________________________________________________________\n",
      "dense_3 (Dense)              (None, 1)                 65        \n",
      "=================================================================\n",
      "Total params: 15,272,897\n",
      "Trainable params: 558,209\n",
      "Non-trainable params: 14,714,688\n",
      "_________________________________________________________________\n",
      "None\n"
     ]
    }
   ],
   "source": [
    "Vgg_model = load_model('Vgg_model.h5')\n",
    "\n",
    "print(Vgg_model.summary())"
   ]
  },
  {
   "cell_type": "code",
   "execution_count": 5,
   "metadata": {},
   "outputs": [],
   "source": [
    "import pickle\n",
    "\n",
    "X_train=pickle.load(open('X_train.pickle','rb'))\n",
    "y_train=pickle.load(open('y_train.pickle','rb'))\n",
    "\n",
    "X_test=pickle.load(open('X_test.pickle','rb'))\n",
    "y_test=pickle.load(open('y_test.pickle','rb'))"
   ]
  },
  {
   "cell_type": "code",
   "execution_count": 7,
   "metadata": {},
   "outputs": [],
   "source": [
    "IMG_SIZE=160"
   ]
  },
  {
   "cell_type": "code",
   "execution_count": 69,
   "metadata": {},
   "outputs": [],
   "source": [
    "def VGG_frame_shape(img):\n",
    "    img=cv2.resize(img,(IMG_SIZE,IMG_SIZE))\n",
    "    img_new = img.reshape((-1,img.shape[0],img.shape[1],3))\n",
    "    return img_new\n"
   ]
  },
  {
   "cell_type": "code",
   "execution_count": 70,
   "metadata": {},
   "outputs": [],
   "source": [
    "def CNN_frame_shape(img):\n",
    "    img=cv2.resize(img,(IMG_SIZE,IMG_SIZE))\n",
    "    img_new = img.reshape((-1,img.shape[0],img.shape[1],1))\n",
    "    return img_new"
   ]
  },
  {
   "cell_type": "code",
   "execution_count": 71,
   "metadata": {},
   "outputs": [],
   "source": [
    "def func_CNN(pred):\n",
    "    chk=pred[0][0]\n",
    "    if chk < 0.01:\n",
    "        result = \"fake\"\n",
    "    else:\n",
    "        result = \"real\"\n",
    "    return result"
   ]
  },
  {
   "cell_type": "code",
   "execution_count": 72,
   "metadata": {},
   "outputs": [],
   "source": [
    "def func(pred):\n",
    "    if pred==0:\n",
    "        return \"fake\"\n",
    "    else :\n",
    "        return \"real\"\n",
    "    "
   ]
  },
  {
   "cell_type": "code",
   "execution_count": 73,
   "metadata": {},
   "outputs": [],
   "source": [
    "def frame_shape(img):\n",
    "    img=cv2.resize(img,(IMG_SIZE,IMG_SIZE))\n",
    "    img_new = img.reshape((1,img.shape[0]*img.shape[1]))\n",
    "    return img_new\n"
   ]
  },
  {
   "cell_type": "code",
   "execution_count": null,
   "metadata": {},
   "outputs": [],
   "source": []
  },
  {
   "cell_type": "code",
   "execution_count": null,
   "metadata": {},
   "outputs": [],
   "source": []
  },
  {
   "cell_type": "code",
   "execution_count": 74,
   "metadata": {},
   "outputs": [],
   "source": [
    "images = list()\n",
    "def Convert_Image(my_img):\n",
    "    \n",
    "    my_img = cv2.cvtColor(my_img,cv2.COLOR_BGR2GRAY)\n",
    "    \n",
    "    images.append(my_img)\n",
    "    \n",
    "    vgg_img = cv2.cvtColor(my_img,cv2.COLOR_BGR2RGB)\n",
    "    \n",
    "    images.append(vgg_img)\n",
    "    \n",
    "    return images\n",
    "    "
   ]
  },
  {
   "cell_type": "code",
   "execution_count": null,
   "metadata": {},
   "outputs": [],
   "source": []
  },
  {
   "cell_type": "code",
   "execution_count": 75,
   "metadata": {},
   "outputs": [],
   "source": [
    "def Process_Roi(my_img):\n",
    "    roi = cv2.resize(my_img, (160, 160))\n",
    "    roi=roi/255\n",
    "    \n",
    "    return roi"
   ]
  },
  {
   "cell_type": "code",
   "execution_count": 76,
   "metadata": {},
   "outputs": [],
   "source": [
    "def KNN_MODEL(roi):\n",
    "    \n",
    "    f_img=frame_shape(roi)\n",
    "    \n",
    "    pred = knn.predict(f_img)\n",
    "    \n",
    "    var=func(pred)\n",
    "\n",
    "    return var"
   ]
  },
  {
   "cell_type": "code",
   "execution_count": 77,
   "metadata": {},
   "outputs": [],
   "source": [
    "def SVM_MODEL(roi):\n",
    "    \n",
    "    f_img=frame_shape(roi)\n",
    "    \n",
    "    svc_pred = svc_model.predict(f_img)\n",
    "    \n",
    "    var2=func(svc_pred)\n",
    "    \n",
    "    return var2\n",
    "    "
   ]
  },
  {
   "cell_type": "code",
   "execution_count": 84,
   "metadata": {},
   "outputs": [],
   "source": [
    "def CNN_MODEL(roi):\n",
    "    \n",
    "    f_img=CNN_frame_shape(roi)\n",
    "    \n",
    "    pred = CNN_model.predict(f_img)\n",
    "\n",
    "    var3=func(pred)\n",
    "    \n",
    "    return var3"
   ]
  },
  {
   "cell_type": "code",
   "execution_count": 85,
   "metadata": {},
   "outputs": [],
   "source": [
    "def VGG_MODEL(roi):\n",
    "    f_img=VGG_frame_shape(roi)\n",
    "    \n",
    "    pred = Vgg_model.predict(f_img)\n",
    "\n",
    "    var4=func_CNN(pred)\n",
    "    \n",
    "    return var4"
   ]
  },
  {
   "cell_type": "code",
   "execution_count": 86,
   "metadata": {},
   "outputs": [],
   "source": [
    "predictions=dict()\n",
    "def Prediction_Models(my_img,vgg_img):\n",
    "    \n",
    "    roi = Process_Roi(my_img)\n",
    "    roi2 = Process_Roi(vgg_img)\n",
    "    \n",
    "    var = KNN_MODEL(roi)\n",
    "    var2 = SVM_MODEL(roi)\n",
    "    var3 = CNN_MODEL(roi)\n",
    "    var4 = VGG_MODEL(roi2)\n",
    "    \n",
    "    \n",
    "    predictions['KNN'] = var\n",
    "    predictions['SVM'] = var2\n",
    "    predictions['CNN'] = var3\n",
    "    predictions['VGG'] = var4\n",
    "    \n",
    "    return predictions"
   ]
  },
  {
   "cell_type": "code",
   "execution_count": 87,
   "metadata": {},
   "outputs": [],
   "source": [
    "def Integrated_Output(img):\n",
    "    images_list = Convert_Image(img)\n",
    "    \n",
    "    my_img = images_list[0]\n",
    "    vgg_img = images_list[1]\n",
    "    \n",
    "    final_results = Prediction_Models(my_img,vgg_img)\n",
    "    \n",
    "    return final_results"
   ]
  },
  {
   "cell_type": "code",
   "execution_count": 88,
   "metadata": {},
   "outputs": [],
   "source": [
    "#my_img=cv2.imread(\"E:\\Python\\Spoofing-Version02\\Fake-Hannan.jpeg\")\n",
    "my_img=cv2.imread(\"E:\\Python\\liveness_detection\\justin_fake.jpg\",cv2.IMREAD_GRAYSCALE)"
   ]
  },
  {
   "cell_type": "code",
   "execution_count": 89,
   "metadata": {},
   "outputs": [
    {
     "name": "stdout",
     "output_type": "stream",
     "text": [
      "{'KNN': 'fake', 'SVM': 'fake', 'CNN': 'fake', 'VGG': 'real'}\n"
     ]
    }
   ],
   "source": [
    "results_after_prediction = Integrated_Output(my_img)\n",
    "print(results_after_prediction)"
   ]
  },
  {
   "cell_type": "code",
   "execution_count": 90,
   "metadata": {},
   "outputs": [
    {
     "name": "stdout",
     "output_type": "stream",
     "text": [
      "fake\n",
      "fake\n",
      "fake\n",
      "real\n"
     ]
    }
   ],
   "source": [
    "for values in results_after_prediction.values():\n",
    "    #print(values)\n",
    "    "
   ]
  }
 ],
 "metadata": {
  "kernelspec": {
   "display_name": "Python 3",
   "language": "python",
   "name": "python3"
  },
  "language_info": {
   "codemirror_mode": {
    "name": "ipython",
    "version": 3
   },
   "file_extension": ".py",
   "mimetype": "text/x-python",
   "name": "python",
   "nbconvert_exporter": "python",
   "pygments_lexer": "ipython3",
   "version": "3.7.3"
  }
 },
 "nbformat": 4,
 "nbformat_minor": 2
}
