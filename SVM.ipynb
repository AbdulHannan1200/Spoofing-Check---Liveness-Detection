{
 "cells": [
  {
   "cell_type": "code",
   "execution_count": 56,
   "metadata": {},
   "outputs": [],
   "source": [
    "import pandas as pd\n",
    "import numpy as np\n",
    "import matplotlib.pyplot as plt\n",
    "import os\n",
    "import cv2\n",
    "import pickle"
   ]
  },
  {
   "cell_type": "code",
   "execution_count": 57,
   "metadata": {},
   "outputs": [],
   "source": [
    "DATA_DIR=\"E:\\Python\\Spoofing-Version02\\images\"\n",
    "CATEGORIES=[\"fake\",\"real\"]"
   ]
  },
  {
   "cell_type": "code",
   "execution_count": 58,
   "metadata": {},
   "outputs": [],
   "source": [
    "IMG_SIZE=160"
   ]
  },
  {
   "cell_type": "code",
   "execution_count": 59,
   "metadata": {},
   "outputs": [],
   "source": [
    "training_data = pickle.load(open('training_data.pickle','rb'))"
   ]
  },
  {
   "cell_type": "code",
   "execution_count": 60,
   "metadata": {},
   "outputs": [],
   "source": [
    "\n",
    "import random\n",
    "\n",
    "random.shuffle(training_data)"
   ]
  },
  {
   "cell_type": "code",
   "execution_count": 61,
   "metadata": {},
   "outputs": [
    {
     "name": "stdout",
     "output_type": "stream",
     "text": [
      "0\n",
      "0\n",
      "1\n",
      "0\n",
      "0\n"
     ]
    }
   ],
   "source": [
    "for sample in training_data[:5]:\n",
    "    print(sample[1])"
   ]
  },
  {
   "cell_type": "code",
   "execution_count": 62,
   "metadata": {},
   "outputs": [
    {
     "name": "stdout",
     "output_type": "stream",
     "text": [
      "(6389, 160, 160)\n"
     ]
    }
   ],
   "source": [
    "X=[]\n",
    "y=[]\n",
    "\n",
    "for features,label in training_data:\n",
    "    X.append(features)\n",
    "    y.append(label)\n",
    "    \n",
    "#how many features did we have -1 saying it could be many any number,we know shape of data imgsize x imgsize\n",
    "#and than one bcz of grayscale image\n",
    "#LAST 1 WILL BE 3 IF USING RGB\n",
    "X=np.array(X).reshape(-1,IMG_SIZE,IMG_SIZE)\n",
    "print(X.shape)"
   ]
  },
  {
   "cell_type": "code",
   "execution_count": 63,
   "metadata": {},
   "outputs": [],
   "source": [
    "X=X/255.0"
   ]
  },
  {
   "cell_type": "code",
   "execution_count": 64,
   "metadata": {},
   "outputs": [
    {
     "name": "stdout",
     "output_type": "stream",
     "text": [
      "(6389, 160, 160)\n"
     ]
    }
   ],
   "source": [
    "X_svm=X\n",
    "print(X_svm.shape)"
   ]
  },
  {
   "cell_type": "code",
   "execution_count": 65,
   "metadata": {},
   "outputs": [
    {
     "name": "stdout",
     "output_type": "stream",
     "text": [
      "(6389, 25600)\n"
     ]
    }
   ],
   "source": [
    "nsamples,nx,ny = X_svm.shape\n",
    "X_svm = X_svm.reshape((nsamples,nx*ny))\n",
    "print(X_svm.shape)"
   ]
  },
  {
   "cell_type": "code",
   "execution_count": 66,
   "metadata": {},
   "outputs": [
    {
     "name": "stdout",
     "output_type": "stream",
     "text": [
      "(4999, 25600)\n"
     ]
    }
   ],
   "source": [
    "X_svm_train=X_svm[:4999]\n",
    "y_train=y[:4999]\n",
    "X_svm_test=X_svm[4999:]\n",
    "y_test=y[4999:]\n",
    "print(X_svm_train.shape)"
   ]
  },
  {
   "cell_type": "code",
   "execution_count": null,
   "metadata": {},
   "outputs": [],
   "source": []
  },
  {
   "cell_type": "code",
   "execution_count": 67,
   "metadata": {},
   "outputs": [
    {
     "name": "stdout",
     "output_type": "stream",
     "text": [
      "[[695   0]\n",
      " [  0 695]]\n",
      "SVM Model Accuracy:  1.0\n",
      "\n",
      "\n",
      "              precision    recall  f1-score   support\n",
      "\n",
      "           0       1.00      1.00      1.00       695\n",
      "           1       1.00      1.00      1.00       695\n",
      "\n",
      "   micro avg       1.00      1.00      1.00      1390\n",
      "   macro avg       1.00      1.00      1.00      1390\n",
      "weighted avg       1.00      1.00      1.00      1390\n",
      "\n"
     ]
    }
   ],
   "source": [
    "from sklearn.svm import SVC\n",
    "svc_model = SVC(kernel='linear')\n",
    "svc_model.fit(X_svm_train,y_train)\n",
    "svm_predictions = svc_model.predict(X_svm_test)\n",
    "\n",
    "from sklearn.metrics import confusion_matrix \n",
    "from sklearn.metrics import accuracy_score \n",
    "from sklearn.metrics import classification_report\n",
    "\n",
    "svm_results = confusion_matrix(y_test, svm_predictions)\n",
    "svm_accuracy=accuracy_score(y_test, svm_predictions)\n",
    "svm_report=classification_report(y_test, svm_predictions) \n",
    "print(svm_results)\n",
    "print('SVM Model Accuracy: ',svm_accuracy)\n",
    "print('\\n')\n",
    "print(svm_report)\n"
   ]
  },
  {
   "cell_type": "code",
   "execution_count": 68,
   "metadata": {},
   "outputs": [],
   "source": [
    "import pickle\n",
    "pickle_out=open(\"svc_model.pickle\",\"wb\")\n",
    "pickle.dump(svc_model,pickle_out)\n",
    "pickle_out.close()"
   ]
  },
  {
   "cell_type": "code",
   "execution_count": null,
   "metadata": {},
   "outputs": [],
   "source": []
  },
  {
   "cell_type": "code",
   "execution_count": null,
   "metadata": {},
   "outputs": [],
   "source": []
  },
  {
   "cell_type": "code",
   "execution_count": 69,
   "metadata": {},
   "outputs": [],
   "source": [
    "svc_model=pickle.load(open('svc_model.pickle','rb'))"
   ]
  },
  {
   "cell_type": "code",
   "execution_count": 70,
   "metadata": {},
   "outputs": [
    {
     "name": "stdout",
     "output_type": "stream",
     "text": [
      "0\n"
     ]
    }
   ],
   "source": [
    "# n=1\n",
    "# a=svc_model.predict([[n]])\n",
    "# print(a)\n",
    "n=67\n",
    "print(y_test[n])"
   ]
  },
  {
   "cell_type": "code",
   "execution_count": 71,
   "metadata": {},
   "outputs": [
    {
     "name": "stdout",
     "output_type": "stream",
     "text": [
      "[0]\n"
     ]
    }
   ],
   "source": [
    "print(svc_model.predict([X_svm_test[n]]))"
   ]
  },
  {
   "cell_type": "code",
   "execution_count": 72,
   "metadata": {},
   "outputs": [],
   "source": [
    "def func(pred):\n",
    "    if pred==0:\n",
    "        return \"fake\"\n",
    "    else :\n",
    "        return \"real\"\n",
    "    "
   ]
  },
  {
   "cell_type": "code",
   "execution_count": 73,
   "metadata": {},
   "outputs": [],
   "source": [
    "def frame_shape(img):\n",
    "    img=cv2.resize(img,(IMG_SIZE,IMG_SIZE))\n",
    "    img_new = img.reshape((1,img.shape[0]*img.shape[1]))\n",
    "    return img_new\n"
   ]
  },
  {
   "cell_type": "code",
   "execution_count": 139,
   "metadata": {},
   "outputs": [],
   "source": [
    "#my_img=cv2.imread(\"E:\\Python\\liveness_detection\\me2.jpg\",cv2.IMREAD_GRAYSCALE)\n",
    "#my_img=cv2.imread(\"E:\\Python\\Spoofing\\Taha.jpg\",cv2.IMREAD_GRAYSCALE)\n",
    "#my_img=cv2.imread(\"E:\\Python\\liveness_detection\\justin_fake.jpg\",cv2.IMREAD_GRAYSCALE)\n",
    "#my_img=cv2.imread(\"E:\\Python\\Spoofing-Version02\\Fake-Hannan.jpeg\",cv2.IMREAD_GRAYSCALE)\n",
    "#my_img=cv2.imread(\"E:\\Python\\Spoofing\\Wasif-02.jpg\",cv2.IMREAD_GRAYSCALE)\n",
    "my_img=cv2.imread(r\"E:\\Python\\liveness_detection\\images\\fake\\img0.jpg\",cv2.IMREAD_GRAYSCALE)"
   ]
  },
  {
   "cell_type": "code",
   "execution_count": 140,
   "metadata": {},
   "outputs": [],
   "source": [
    "roi = cv2.resize(my_img, (160, 160))\n",
    "#prnt(roi)\n",
    "roi=roi/255"
   ]
  },
  {
   "cell_type": "code",
   "execution_count": 141,
   "metadata": {},
   "outputs": [
    {
     "name": "stdout",
     "output_type": "stream",
     "text": [
      "[0]\n",
      "fake\n"
     ]
    }
   ],
   "source": [
    "f_img=frame_shape(roi)\n",
    "svc_pred = svc_model.predict(f_img)\n",
    "print(svc_pred)\n",
    "var2=func(svc_pred)\n",
    "print(var2)"
   ]
  },
  {
   "cell_type": "code",
   "execution_count": null,
   "metadata": {},
   "outputs": [],
   "source": []
  },
  {
   "cell_type": "code",
   "execution_count": null,
   "metadata": {},
   "outputs": [],
   "source": []
  }
 ],
 "metadata": {
  "kernelspec": {
   "display_name": "Python 3",
   "language": "python",
   "name": "python3"
  },
  "language_info": {
   "codemirror_mode": {
    "name": "ipython",
    "version": 3
   },
   "file_extension": ".py",
   "mimetype": "text/x-python",
   "name": "python",
   "nbconvert_exporter": "python",
   "pygments_lexer": "ipython3",
   "version": "3.7.3"
  }
 },
 "nbformat": 4,
 "nbformat_minor": 2
}
